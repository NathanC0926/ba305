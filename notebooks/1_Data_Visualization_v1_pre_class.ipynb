{
  "cells": [
    {
      "cell_type": "markdown",
      "id": "G6x8cg5hWU6x",
      "metadata": {
        "id": "G6x8cg5hWU6x"
      },
      "source": [
        "# **Environment Setup**"
      ]
    },
    {
      "cell_type": "code",
      "execution_count": 1,
      "id": "C1r5-D7Z80xB",
      "metadata": {
        "colab": {
          "base_uri": "https://localhost:8080/"
        },
        "id": "C1r5-D7Z80xB",
        "outputId": "9a701ea8-1bbf-4afc-c6cf-c17e3237c712"
      },
      "outputs": [
        {
          "name": "stdout",
          "output_type": "stream",
          "text": [
            "Mounted at /content/drive\n"
          ]
        }
      ],
      "source": [
        "# datasets to be used: \"LaptopSalesJanuary2008.csv\", \"WHO.csv\"\n",
        "# upload datasets to a folder in Google Drive, e.g., My Drive/Colab Data\n",
        "# connect to Google Drive, path to datasets is \"/content/drive/My Drive/Colab Data/...\"\n",
        "from google.colab import drive\n",
        "drive.mount('/content/drive')"
      ]
    },
    {
      "cell_type": "code",
      "execution_count": 2,
      "id": "d333d4d0",
      "metadata": {
        "id": "d333d4d0"
      },
      "outputs": [],
      "source": [
        "## (if running in Colab you can skip this part)\n",
        "## install required packages if not already in the environment\n",
        "## either use anaconda navigator GUI or call conda on command prompt(win)/terminal(mac)\n",
        "# conda install numpy\n",
        "# conda install pandas\n",
        "# conda install matplotlib\n",
        "# conda install seaborn\n",
        "# conda install -c conda-forge plotnine"
      ]
    },
    {
      "cell_type": "code",
      "execution_count": 5,
      "id": "8b2cb952",
      "metadata": {
        "id": "8b2cb952"
      },
      "outputs": [],
      "source": [
        "# after installation, import required packages\n",
        "import numpy as np\n",
        "import pandas as pd\n",
        "import matplotlib.pyplot as plt\n",
        "%matplotlib inline\n",
        "import seaborn as sns\n",
        "from plotnine import *\n",
        "import duckdb as db"
      ]
    },
    {
      "cell_type": "markdown",
      "id": "N9aJmGX_NfQt",
      "metadata": {
        "id": "N9aJmGX_NfQt"
      },
      "source": [
        "# **Example 1: Laptop Sales**"
      ]
    },
    {
      "cell_type": "code",
      "execution_count": null,
      "id": "02c56c27",
      "metadata": {
        "id": "02c56c27"
      },
      "outputs": [
        {
          "data": {
            "text/html": [
              "<div>\n",
              "<style scoped>\n",
              "    .dataframe tbody tr th:only-of-type {\n",
              "        vertical-align: middle;\n",
              "    }\n",
              "\n",
              "    .dataframe tbody tr th {\n",
              "        vertical-align: top;\n",
              "    }\n",
              "\n",
              "    .dataframe thead th {\n",
              "        text-align: right;\n",
              "    }\n",
              "</style>\n",
              "<table border=\"1\" class=\"dataframe\">\n",
              "  <thead>\n",
              "    <tr style=\"text-align: right;\">\n",
              "      <th></th>\n",
              "      <th>Date</th>\n",
              "      <th>Configuration</th>\n",
              "      <th>Customer Postcode</th>\n",
              "      <th>Store Postcode</th>\n",
              "      <th>Retail Price</th>\n",
              "      <th>Screen Size (Inches)</th>\n",
              "      <th>Battery Life (Hours)</th>\n",
              "      <th>RAM (GB)</th>\n",
              "      <th>Processor Speeds (GHz)</th>\n",
              "      <th>Integrated Wireless?</th>\n",
              "      <th>HD Size (GB)</th>\n",
              "      <th>Bundled Applications?</th>\n",
              "      <th>OS X Customer</th>\n",
              "      <th>OS Y Customer</th>\n",
              "      <th>OS X Store</th>\n",
              "      <th>OS Y Store</th>\n",
              "      <th>CustomerStoreDistance</th>\n",
              "    </tr>\n",
              "  </thead>\n",
              "  <tbody>\n",
              "    <tr>\n",
              "      <th>0</th>\n",
              "      <td>1/1/2008 0:01</td>\n",
              "      <td>163</td>\n",
              "      <td>EC4V 5BH</td>\n",
              "      <td>SE1 2BN</td>\n",
              "      <td>455</td>\n",
              "      <td>15</td>\n",
              "      <td>5</td>\n",
              "      <td>1</td>\n",
              "      <td>2.0</td>\n",
              "      <td>Yes</td>\n",
              "      <td>80</td>\n",
              "      <td>Yes</td>\n",
              "      <td>532041</td>\n",
              "      <td>180995</td>\n",
              "      <td>534057.0</td>\n",
              "      <td>179682.0</td>\n",
              "      <td>2405.873022</td>\n",
              "    </tr>\n",
              "    <tr>\n",
              "      <th>1</th>\n",
              "      <td>1/1/2008 0:02</td>\n",
              "      <td>320</td>\n",
              "      <td>SW4 0JL</td>\n",
              "      <td>SW12 9HD</td>\n",
              "      <td>545</td>\n",
              "      <td>15</td>\n",
              "      <td>6</td>\n",
              "      <td>1</td>\n",
              "      <td>2.0</td>\n",
              "      <td>No</td>\n",
              "      <td>300</td>\n",
              "      <td>No</td>\n",
              "      <td>529240</td>\n",
              "      <td>175537</td>\n",
              "      <td>528739.0</td>\n",
              "      <td>173080.0</td>\n",
              "      <td>2507.558574</td>\n",
              "    </tr>\n",
              "    <tr>\n",
              "      <th>2</th>\n",
              "      <td>1/1/2008 0:04</td>\n",
              "      <td>23</td>\n",
              "      <td>EC3V 1LR</td>\n",
              "      <td>E2 0RY</td>\n",
              "      <td>515</td>\n",
              "      <td>15</td>\n",
              "      <td>4</td>\n",
              "      <td>1</td>\n",
              "      <td>2.0</td>\n",
              "      <td>Yes</td>\n",
              "      <td>300</td>\n",
              "      <td>Yes</td>\n",
              "      <td>533095</td>\n",
              "      <td>181047</td>\n",
              "      <td>535652.0</td>\n",
              "      <td>182961.0</td>\n",
              "      <td>3194.001409</td>\n",
              "    </tr>\n",
              "    <tr>\n",
              "      <th>3</th>\n",
              "      <td>1/1/2008 0:04</td>\n",
              "      <td>169</td>\n",
              "      <td>SW1P 3AU</td>\n",
              "      <td>SE1 2BN</td>\n",
              "      <td>395</td>\n",
              "      <td>15</td>\n",
              "      <td>5</td>\n",
              "      <td>1</td>\n",
              "      <td>2.0</td>\n",
              "      <td>No</td>\n",
              "      <td>40</td>\n",
              "      <td>Yes</td>\n",
              "      <td>529902</td>\n",
              "      <td>179641</td>\n",
              "      <td>534057.0</td>\n",
              "      <td>179682.0</td>\n",
              "      <td>4155.202281</td>\n",
              "    </tr>\n",
              "    <tr>\n",
              "      <th>4</th>\n",
              "      <td>1/1/2008 0:06</td>\n",
              "      <td>365</td>\n",
              "      <td>EC4V 4EG</td>\n",
              "      <td>SW1V 4QQ</td>\n",
              "      <td>585</td>\n",
              "      <td>15</td>\n",
              "      <td>6</td>\n",
              "      <td>2</td>\n",
              "      <td>2.0</td>\n",
              "      <td>No</td>\n",
              "      <td>120</td>\n",
              "      <td>Yes</td>\n",
              "      <td>531684</td>\n",
              "      <td>180948</td>\n",
              "      <td>528924.0</td>\n",
              "      <td>178440.0</td>\n",
              "      <td>3729.298057</td>\n",
              "    </tr>\n",
              "  </tbody>\n",
              "</table>\n",
              "</div>"
            ],
            "text/plain": [
              "            Date  Configuration Customer Postcode Store Postcode  \\\n",
              "0  1/1/2008 0:01            163          EC4V 5BH        SE1 2BN   \n",
              "1  1/1/2008 0:02            320           SW4 0JL       SW12 9HD   \n",
              "2  1/1/2008 0:04             23          EC3V 1LR         E2 0RY   \n",
              "3  1/1/2008 0:04            169          SW1P 3AU        SE1 2BN   \n",
              "4  1/1/2008 0:06            365          EC4V 4EG       SW1V 4QQ   \n",
              "\n",
              "   Retail Price  Screen Size (Inches)  Battery Life (Hours)  RAM (GB)  \\\n",
              "0           455                    15                     5         1   \n",
              "1           545                    15                     6         1   \n",
              "2           515                    15                     4         1   \n",
              "3           395                    15                     5         1   \n",
              "4           585                    15                     6         2   \n",
              "\n",
              "   Processor Speeds (GHz) Integrated Wireless?  HD Size (GB)  \\\n",
              "0                     2.0                  Yes            80   \n",
              "1                     2.0                   No           300   \n",
              "2                     2.0                  Yes           300   \n",
              "3                     2.0                   No            40   \n",
              "4                     2.0                   No           120   \n",
              "\n",
              "  Bundled Applications?  OS X Customer  OS Y Customer  OS X Store  OS Y Store  \\\n",
              "0                   Yes         532041         180995    534057.0    179682.0   \n",
              "1                    No         529240         175537    528739.0    173080.0   \n",
              "2                   Yes         533095         181047    535652.0    182961.0   \n",
              "3                   Yes         529902         179641    534057.0    179682.0   \n",
              "4                   Yes         531684         180948    528924.0    178440.0   \n",
              "\n",
              "   CustomerStoreDistance  \n",
              "0            2405.873022  \n",
              "1            2507.558574  \n",
              "2            3194.001409  \n",
              "3            4155.202281  \n",
              "4            3729.298057  "
            ]
          },
          "execution_count": 3,
          "metadata": {},
          "output_type": "execute_result"
        }
      ],
      "source": [
        "# Laptop Sales at a London Computer Chain - LaptopSalesJanuary2008.csv\n",
        "# load data as a Dataframe\n",
        "laptop_df = pd.read_csv(\"../data/LaptopSalesJanuary2008.csv\")\n",
        "\n",
        "# check if data is loaded correctly\n",
        "laptop_df.head()"
      ]
    },
    {
      "cell_type": "code",
      "execution_count": 4,
      "id": "5a51acfd",
      "metadata": {
        "id": "5a51acfd",
        "scrolled": false
      },
      "outputs": [
        {
          "name": "stdout",
          "output_type": "stream",
          "text": [
            "<class 'pandas.core.frame.DataFrame'>\n",
            "RangeIndex: 7956 entries, 0 to 7955\n",
            "Data columns (total 17 columns):\n",
            " #   Column                  Non-Null Count  Dtype  \n",
            "---  ------                  --------------  -----  \n",
            " 0   Date                    7956 non-null   object \n",
            " 1   Configuration           7956 non-null   int64  \n",
            " 2   Customer Postcode       7956 non-null   object \n",
            " 3   Store Postcode          7956 non-null   object \n",
            " 4   Retail Price            7956 non-null   int64  \n",
            " 5   Screen Size (Inches)    7956 non-null   int64  \n",
            " 6   Battery Life (Hours)    7956 non-null   int64  \n",
            " 7   RAM (GB)                7956 non-null   int64  \n",
            " 8   Processor Speeds (GHz)  7956 non-null   float64\n",
            " 9   Integrated Wireless?    7956 non-null   object \n",
            " 10  HD Size (GB)            7956 non-null   int64  \n",
            " 11  Bundled Applications?   7956 non-null   object \n",
            " 12  OS X Customer           7956 non-null   int64  \n",
            " 13  OS Y Customer           7956 non-null   int64  \n",
            " 14  OS X Store              7952 non-null   float64\n",
            " 15  OS Y Store              7952 non-null   float64\n",
            " 16  CustomerStoreDistance   7952 non-null   float64\n",
            "dtypes: float64(4), int64(8), object(5)\n",
            "memory usage: 1.0+ MB\n"
          ]
        }
      ],
      "source": [
        "# print a concise summary of the Dataframe\n",
        "laptop_df.info()"
      ]
    },
    {
      "cell_type": "markdown",
      "id": "qLyariMxbCEm",
      "metadata": {
        "id": "qLyariMxbCEm"
      },
      "source": [
        "## **Pre-processing:**"
      ]
    },
    {
      "cell_type": "code",
      "execution_count": 6,
      "id": "2901b3c4",
      "metadata": {
        "id": "2901b3c4"
      },
      "outputs": [],
      "source": [
        "# Print the list of variables to the screen"
      ]
    },
    {
      "cell_type": "code",
      "execution_count": 7,
      "id": "d2ee1e3d",
      "metadata": {
        "id": "d2ee1e3d"
      },
      "outputs": [],
      "source": [
        "# Change the variable names to be more suitable for analysis"
      ]
    },
    {
      "cell_type": "markdown",
      "id": "6lGlr_Lui9JO",
      "metadata": {
        "id": "6lGlr_Lui9JO"
      },
      "source": [
        "## **Task 1:** compute the average retail price by store postcode"
      ]
    },
    {
      "cell_type": "code",
      "execution_count": 8,
      "id": "6-Ik6pBpLl7I",
      "metadata": {
        "id": "6-Ik6pBpLl7I"
      },
      "outputs": [],
      "source": [
        "# use dataframe \"groupby()\" function\n",
        "# note, this is going to convert the 'dataframe' into a 'Series' object"
      ]
    },
    {
      "cell_type": "markdown",
      "id": "YVMHPtYeOLzj",
      "metadata": {
        "id": "YVMHPtYeOLzj"
      },
      "source": [
        "## **Task 2:** compare mean retail prices across the various postcodes in a barchart. Where are the min and max prices located?"
      ]
    },
    {
      "cell_type": "code",
      "execution_count": 9,
      "id": "26022d9e",
      "metadata": {
        "id": "26022d9e"
      },
      "outputs": [],
      "source": [
        "# barchart of store vs. mean retail price\n",
        "# we're going to use pandas' built-in plot() function"
      ]
    },
    {
      "cell_type": "markdown",
      "id": "bzC7SufvOciw",
      "metadata": {
        "id": "bzC7SufvOciw"
      },
      "source": [
        "## **Task 3:** compare retail price distributions across the various postcodes in a boxplot"
      ]
    },
    {
      "cell_type": "code",
      "execution_count": 10,
      "id": "f813fab3",
      "metadata": {
        "id": "f813fab3"
      },
      "outputs": [],
      "source": [
        "# pandas boxplot() function to plot boxplots of retail price by store\n",
        "# grouping method is embedded, so we can use the original laptop dataframe\n",
        "\n",
        "# make the figure more readable"
      ]
    },
    {
      "cell_type": "markdown",
      "id": "9YK_QrVFOmR1",
      "metadata": {
        "id": "9YK_QrVFOmR1"
      },
      "source": [
        "# **Example 2: World Health Organization (WHO)**"
      ]
    },
    {
      "cell_type": "code",
      "execution_count": 11,
      "id": "551b4921",
      "metadata": {
        "id": "551b4921"
      },
      "outputs": [],
      "source": [
        "# World Health Organization – WHO.csv\n",
        "\n",
        "# load data as a Dataframe"
      ]
    },
    {
      "cell_type": "code",
      "execution_count": 12,
      "id": "02de330d",
      "metadata": {
        "id": "02de330d"
      },
      "outputs": [],
      "source": [
        "# print a concise summary of the Dataframe"
      ]
    },
    {
      "cell_type": "markdown",
      "id": "9HkL9ueXPOGm",
      "metadata": {
        "id": "9HkL9ueXPOGm"
      },
      "source": [
        "## **Task 1:** what's the relationship between Fertitility Rate and GNI (gross nat. income)?"
      ]
    },
    {
      "cell_type": "code",
      "execution_count": 13,
      "id": "eb93d2ae",
      "metadata": {
        "id": "eb93d2ae"
      },
      "outputs": [],
      "source": [
        "# using seaborn scatterplot() function"
      ]
    },
    {
      "cell_type": "code",
      "execution_count": 14,
      "id": "1363fe8f",
      "metadata": {
        "id": "1363fe8f"
      },
      "outputs": [],
      "source": [
        "# change marker type & size"
      ]
    },
    {
      "cell_type": "code",
      "execution_count": 15,
      "id": "989a600e",
      "metadata": {
        "id": "989a600e"
      },
      "outputs": [],
      "source": [
        "# change marker type and color"
      ]
    },
    {
      "cell_type": "code",
      "execution_count": 16,
      "id": "bd589690",
      "metadata": {
        "id": "bd589690"
      },
      "outputs": [],
      "source": [
        "# add title"
      ]
    },
    {
      "cell_type": "code",
      "execution_count": 17,
      "id": "4b63448c",
      "metadata": {
        "id": "4b63448c"
      },
      "outputs": [],
      "source": [
        "# save graph as image"
      ]
    },
    {
      "cell_type": "code",
      "execution_count": 18,
      "id": "53b2ef66",
      "metadata": {
        "id": "53b2ef66",
        "scrolled": true
      },
      "outputs": [],
      "source": [
        "# same thing with lineplot() function\n",
        "# good idea?"
      ]
    },
    {
      "cell_type": "markdown",
      "id": "rxZudPYkQhhj",
      "metadata": {
        "id": "rxZudPYkQhhj"
      },
      "source": [
        "## **Task 2:** Add a 3rd dimension to represent \"Regions\", then \"LifeExpectancy\""
      ]
    },
    {
      "cell_type": "code",
      "execution_count": 19,
      "id": "326d9b7b",
      "metadata": {
        "id": "326d9b7b"
      },
      "outputs": [],
      "source": [
        "# color the observations by region (categorical)"
      ]
    },
    {
      "cell_type": "code",
      "execution_count": 20,
      "id": "328168be",
      "metadata": {
        "id": "328168be",
        "scrolled": true
      },
      "outputs": [],
      "source": [
        "# color the observations according to life expectancy (numeric)"
      ]
    },
    {
      "cell_type": "markdown",
      "id": "I97NqSLhQ5W_",
      "metadata": {
        "id": "I97NqSLhQ5W_"
      },
      "source": [
        "## **Task 3:** is the fertility rate of a country a good predictor of the percentage of the population under 15?"
      ]
    },
    {
      "cell_type": "code",
      "execution_count": 21,
      "id": "e3d79d9d",
      "metadata": {
        "id": "e3d79d9d"
      },
      "outputs": [],
      "source": [
        "# visualize raw data"
      ]
    },
    {
      "cell_type": "code",
      "execution_count": 22,
      "id": "c0c1ae4a",
      "metadata": {
        "id": "c0c1ae4a"
      },
      "outputs": [],
      "source": [
        "# visualize a log transformation by changing the scale of the x axis"
      ]
    },
    {
      "cell_type": "code",
      "execution_count": 23,
      "id": "36f480d1",
      "metadata": {
        "id": "36f480d1"
      },
      "outputs": [],
      "source": [
        "# alternative log transformation\n",
        "# this method adds a new column to the who_df dataframe containing the log"
      ]
    },
    {
      "cell_type": "code",
      "execution_count": 24,
      "id": "72669daa",
      "metadata": {
        "id": "72669daa"
      },
      "outputs": [],
      "source": [
        "# yet another log transformation"
      ]
    },
    {
      "cell_type": "code",
      "execution_count": 25,
      "id": "41b47df7",
      "metadata": {
        "id": "41b47df7"
      },
      "outputs": [],
      "source": [
        "# add a regression line to our plot\n",
        "# default confidence interval is 95%"
      ]
    },
    {
      "cell_type": "code",
      "execution_count": 26,
      "id": "974e8c50",
      "metadata": {
        "id": "974e8c50"
      },
      "outputs": [],
      "source": [
        "# 99% confidence interval"
      ]
    },
    {
      "cell_type": "code",
      "execution_count": 27,
      "id": "U9S3yfet9BqS",
      "metadata": {
        "id": "U9S3yfet9BqS"
      },
      "outputs": [],
      "source": [
        "# no confidence interval"
      ]
    },
    {
      "cell_type": "code",
      "execution_count": 28,
      "id": "YeCauP2N9SN9",
      "metadata": {
        "id": "YeCauP2N9SN9"
      },
      "outputs": [],
      "source": [
        "# change the color of the regression line"
      ]
    },
    {
      "cell_type": "markdown",
      "id": "p8Vfl74pVeTW",
      "metadata": {
        "id": "p8Vfl74pVeTW"
      },
      "source": [
        "# **Example 3: Re-plot WHO data using ggplot**\n",
        "\n",
        "Required components for creating a plot w/ ggplot (grammar of graphics):\n",
        "\n",
        "1.   Data is the information to use when creating the plot.\n",
        "2.   Aesthetics (aes) provides a mapping between data variables and aesthetic, or graphical, variables used by the underlying drawing system.\n",
        "3.   Geometric objects (geoms) defines the type of geometric object to use in the drawing. You can use points, lines, bars, and many others."
      ]
    },
    {
      "cell_type": "code",
      "execution_count": 29,
      "id": "55122e38",
      "metadata": {
        "id": "55122e38"
      },
      "outputs": [],
      "source": [
        "# Fertility Rate vs. Gross National Income"
      ]
    },
    {
      "cell_type": "code",
      "execution_count": 30,
      "id": "7ee26139",
      "metadata": {
        "id": "7ee26139",
        "scrolled": false
      },
      "outputs": [],
      "source": [
        "# Fertility Rate vs. Percentage of the Population under 15"
      ]
    }
  ],
  "metadata": {
    "colab": {
      "provenance": []
    },
    "gpuClass": "standard",
    "kernelspec": {
      "display_name": "ba305",
      "language": "python",
      "name": "python3"
    },
    "language_info": {
      "codemirror_mode": {
        "name": "ipython",
        "version": 3
      },
      "file_extension": ".py",
      "mimetype": "text/x-python",
      "name": "python",
      "nbconvert_exporter": "python",
      "pygments_lexer": "ipython3",
      "version": "3.11.13"
    }
  },
  "nbformat": 4,
  "nbformat_minor": 5
}
